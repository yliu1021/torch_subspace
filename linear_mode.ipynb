{
 "cells": [
  {
   "cell_type": "code",
   "execution_count": 8,
   "metadata": {},
   "outputs": [],
   "source": [
    "import torch\n",
    "from experiments.models import get_model\n",
    "from experiments.data import get_data\n",
    "import blockers\n",
    "import torch_subspace"
   ]
  },
  {
   "cell_type": "code",
   "execution_count": 9,
   "metadata": {},
   "outputs": [
    {
     "data": {
      "text/plain": [
       "VGG(\n",
       "  (features): Sequential(\n",
       "    (0): Conv2dLR(\n",
       "      (weights): ParameterList(  (0): Parameter containing: [torch.cuda.FloatTensor of size 64x27 (GPU 0)])\n",
       "    )\n",
       "    (1): BatchNorm2d(64, eps=1e-05, momentum=0.1, affine=True, track_running_stats=True)\n",
       "    (2): ReLU(inplace=True)\n",
       "    (3): Conv2dLR(\n",
       "      (weights): ParameterList(  (0): Parameter containing: [torch.cuda.FloatTensor of size 64x576 (GPU 0)])\n",
       "    )\n",
       "    (4): BatchNorm2d(64, eps=1e-05, momentum=0.1, affine=True, track_running_stats=True)\n",
       "    (5): ReLU(inplace=True)\n",
       "    (6): MaxPool2d(kernel_size=2, stride=2, padding=0, dilation=1, ceil_mode=False)\n",
       "    (7): Conv2dLR(\n",
       "      (weights): ParameterList(  (0): Parameter containing: [torch.cuda.FloatTensor of size 128x576 (GPU 0)])\n",
       "    )\n",
       "    (8): BatchNorm2d(128, eps=1e-05, momentum=0.1, affine=True, track_running_stats=True)\n",
       "    (9): ReLU(inplace=True)\n",
       "    (10): Conv2dLR(\n",
       "      (weights): ParameterList(  (0): Parameter containing: [torch.cuda.FloatTensor of size 128x1152 (GPU 0)])\n",
       "    )\n",
       "    (11): BatchNorm2d(128, eps=1e-05, momentum=0.1, affine=True, track_running_stats=True)\n",
       "    (12): ReLU(inplace=True)\n",
       "    (13): MaxPool2d(kernel_size=2, stride=2, padding=0, dilation=1, ceil_mode=False)\n",
       "    (14): Conv2dLR(\n",
       "      (weights): ParameterList(  (0): Parameter containing: [torch.cuda.FloatTensor of size 256x1152 (GPU 0)])\n",
       "    )\n",
       "    (15): BatchNorm2d(256, eps=1e-05, momentum=0.1, affine=True, track_running_stats=True)\n",
       "    (16): ReLU(inplace=True)\n",
       "    (17): Conv2dLR(\n",
       "      (weights): ParameterList(  (0): Parameter containing: [torch.cuda.FloatTensor of size 256x2304 (GPU 0)])\n",
       "    )\n",
       "    (18): BatchNorm2d(256, eps=1e-05, momentum=0.1, affine=True, track_running_stats=True)\n",
       "    (19): ReLU(inplace=True)\n",
       "    (20): Conv2dLR(\n",
       "      (weights): ParameterList(  (0): Parameter containing: [torch.cuda.FloatTensor of size 256x2304 (GPU 0)])\n",
       "    )\n",
       "    (21): BatchNorm2d(256, eps=1e-05, momentum=0.1, affine=True, track_running_stats=True)\n",
       "    (22): ReLU(inplace=True)\n",
       "    (23): MaxPool2d(kernel_size=2, stride=2, padding=0, dilation=1, ceil_mode=False)\n",
       "    (24): Conv2dLR(\n",
       "      (weights): ParameterList(  (0): Parameter containing: [torch.cuda.FloatTensor of size 512x2304 (GPU 0)])\n",
       "    )\n",
       "    (25): BatchNorm2d(512, eps=1e-05, momentum=0.1, affine=True, track_running_stats=True)\n",
       "    (26): ReLU(inplace=True)\n",
       "    (27): Conv2dLR(\n",
       "      (weights): ParameterList(  (0): Parameter containing: [torch.cuda.FloatTensor of size 512x4608 (GPU 0)])\n",
       "    )\n",
       "    (28): BatchNorm2d(512, eps=1e-05, momentum=0.1, affine=True, track_running_stats=True)\n",
       "    (29): ReLU(inplace=True)\n",
       "    (30): Conv2dLR(\n",
       "      (weights): ParameterList(  (0): Parameter containing: [torch.cuda.FloatTensor of size 512x4608 (GPU 0)])\n",
       "    )\n",
       "    (31): BatchNorm2d(512, eps=1e-05, momentum=0.1, affine=True, track_running_stats=True)\n",
       "    (32): ReLU(inplace=True)\n",
       "    (33): MaxPool2d(kernel_size=2, stride=2, padding=0, dilation=1, ceil_mode=False)\n",
       "    (34): Conv2dLR(\n",
       "      (weights): ParameterList(  (0): Parameter containing: [torch.cuda.FloatTensor of size 512x4608 (GPU 0)])\n",
       "    )\n",
       "    (35): BatchNorm2d(512, eps=1e-05, momentum=0.1, affine=True, track_running_stats=True)\n",
       "    (36): ReLU(inplace=True)\n",
       "    (37): Conv2dLR(\n",
       "      (weights): ParameterList(  (0): Parameter containing: [torch.cuda.FloatTensor of size 512x4608 (GPU 0)])\n",
       "    )\n",
       "    (38): BatchNorm2d(512, eps=1e-05, momentum=0.1, affine=True, track_running_stats=True)\n",
       "    (39): ReLU(inplace=True)\n",
       "    (40): Conv2dLR(\n",
       "      (weights): ParameterList(  (0): Parameter containing: [torch.cuda.FloatTensor of size 512x4608 (GPU 0)])\n",
       "    )\n",
       "    (41): BatchNorm2d(512, eps=1e-05, momentum=0.1, affine=True, track_running_stats=True)\n",
       "    (42): ReLU(inplace=True)\n",
       "    (43): MaxPool2d(kernel_size=2, stride=2, padding=0, dilation=1, ceil_mode=False)\n",
       "  )\n",
       "  (avgpool): AdaptiveAvgPool2d(output_size=(1, 1))\n",
       "  (classifier): LinearLR(\n",
       "    (weights): ParameterList(  (0): Parameter containing: [torch.cuda.FloatTensor of size 10x512 (GPU 0)])\n",
       "  )\n",
       ")"
      ]
     },
     "execution_count": 9,
     "metadata": {},
     "output_type": "execute_result"
    }
   ],
   "source": [
    "device = torch.device(\"cuda\")\n",
    "train_data, test_data, num_classes = get_data(\n",
    "    \"cifar10\", batch_size=512, data_path=\"./data\"\n",
    ")\n",
    "model = get_model(\"vgg16\", num_classes=num_classes, device=device)\n",
    "torch_subspace.convert_model_to_lr(model)"
   ]
  },
  {
   "cell_type": "code",
   "execution_count": 10,
   "metadata": {},
   "outputs": [],
   "source": [
    "blocker_name = \"square\"\n",
    "if blocker_name == \"square\":\n",
    "    blockers.square.make_blocks(model)\n",
    "elif blocker_name == \"alds\":\n",
    "    blockers.alds.make_blocks(model, k=4)  # TODO: tune `k` value\n",
    "elif blocker_name == \"none\":\n",
    "    pass\n",
    "else:\n",
    "    raise ValueError(f\"Invalid blocker: {blocker_name}\")"
   ]
  },
  {
   "cell_type": "code",
   "execution_count": 12,
   "metadata": {},
   "outputs": [
    {
     "ename": "RuntimeError",
     "evalue": "Error(s) in loading state_dict for VGG:\n\tUnexpected key(s) in state_dict: \"features.0.weights.0.sv_mask\", \"features.0.weights.0.weights.1\", \"features.0.weights.1.sv_mask\", \"features.0.weights.1.weights.1\", \"features.3.weights.0.sv_mask\", \"features.3.weights.0.weights.1\", \"features.3.weights.1.sv_mask\", \"features.3.weights.1.weights.1\", \"features.3.weights.2.sv_mask\", \"features.3.weights.2.weights.1\", \"features.3.weights.3.sv_mask\", \"features.3.weights.3.weights.1\", \"features.3.weights.4.sv_mask\", \"features.3.weights.4.weights.1\", \"features.3.weights.5.sv_mask\", \"features.3.weights.5.weights.1\", \"features.3.weights.6.sv_mask\", \"features.3.weights.6.weights.1\", \"features.3.weights.7.sv_mask\", \"features.3.weights.7.weights.1\", \"features.3.weights.8.sv_mask\", \"features.3.weights.8.weights.1\", \"features.7.weights.0.sv_mask\", \"features.7.weights.0.weights.1\", \"features.7.weights.1.sv_mask\", \"features.7.weights.1.weights.1\", \"features.7.weights.2.sv_mask\", \"features.7.weights.2.weights.1\", \"features.7.weights.3.sv_mask\", \"features.7.weights.3.weights.1\", \"features.10.weights.0.sv_mask\", \"features.10.weights.0.weights.1\", \"features.10.weights.1.sv_mask\", \"features.10.weights.1.weights.1\", \"features.10.weights.2.sv_mask\", \"features.10.weights.2.weights.1\", \"features.10.weights.3.sv_mask\", \"features.10.weights.3.weights.1\", \"features.10.weights.4.sv_mask\", \"features.10.weights.4.weights.1\", \"features.10.weights.5.sv_mask\", \"features.10.weights.5.weights.1\", \"features.10.weights.6.sv_mask\", \"features.10.weights.6.weights.1\", \"features.10.weights.7.sv_mask\", \"features.10.weights.7.weights.1\", \"features.10.weights.8.sv_mask\", \"features.10.weights.8.weights.1\", \"features.14.weights.0.sv_mask\", \"features.14.weights.0.weights.1\", \"features.14.weights.1.sv_mask\", \"features.14.weights.1.weights.1\", \"features.14.weights.2.sv_mask\", \"features.14.weights.2.weights.1\", \"features.14.weights.3.sv_mask\", \"features.14.weights.3.weights.1\", \"features.17.weights.0.sv_mask\", \"features.17.weights.0.weights.1\", \"features.17.weights.1.sv_mask\", \"features.17.weights.1.weights.1\", \"features.17.weights.2.sv_mask\", \"features.17.weights.2.weights.1\", \"features.17.weights.3.sv_mask\", \"features.17.weights.3.weights.1\", \"features.17.weights.4.sv_mask\", \"features.17.weights.4.weights.1\", \"features.17.weights.5.sv_mask\", \"features.17.weights.5.weights.1\", \"features.17.weights.6.sv_mask\", \"features.17.weights.6.weights.1\", \"features.17.weights.7.sv_mask\", \"features.17.weights.7.weights.1\", \"features.17.weights.8.sv_mask\", \"features.17.weights.8.weights.1\", \"features.20.weights.0.sv_mask\", \"features.20.weights.0.weights.1\", \"features.20.weights.1.sv_mask\", \"features.20.weights.1.weights.1\", \"features.20.weights.2.sv_mask\", \"features.20.weights.2.weights.1\", \"features.20.weights.3.sv_mask\", \"features.20.weights.3.weights.1\", \"features.20.weights.4.sv_mask\", \"features.20.weights.4.weights.1\", \"features.20.weights.5.sv_mask\", \"features.20.weights.5.weights.1\", \"features.20.weights.6.sv_mask\", \"features.20.weights.6.weights.1\", \"features.20.weights.7.sv_mask\", \"features.20.weights.7.weights.1\", \"features.20.weights.8.sv_mask\", \"features.20.weights.8.weights.1\", \"features.24.weights.0.sv_mask\", \"features.24.weights.0.weights.1\", \"features.24.weights.1.sv_mask\", \"features.24.weights.1.weights.1\", \"features.24.weights.2.sv_mask\", \"features.24.weights.2.weights.1\", \"features.24.weights.3.sv_mask\", \"features.24.weights.3.weights.1\", \"features.27.weights.0.sv_mask\", \"features.27.weights.0.weights.1\", \"features.27.weights.1.sv_mask\", \"features.27.weights.1.weights.1\", \"features.27.weights.2.sv_mask\", \"features.27.weights.2.weights.1\", \"features.27.weights.3.sv_mask\", \"features.27.weights.3.weights.1\", \"features.27.weights.4.sv_mask\", \"features.27.weights.4.weights.1\", \"features.27.weights.5.sv_mask\", \"features.27.weights.5.weights.1\", \"features.27.weights.6.sv_mask\", \"features.27.weights.6.weights.1\", \"features.27.weights.7.sv_mask\", \"features.27.weights.7.weights.1\", \"features.27.weights.8.sv_mask\", \"features.27.weights.8.weights.1\", \"features.30.weights.0.sv_mask\", \"features.30.weights.0.weights.1\", \"features.30.weights.1.sv_mask\", \"features.30.weights.1.weights.1\", \"features.30.weights.2.sv_mask\", \"features.30.weights.2.weights.1\", \"features.30.weights.3.sv_mask\", \"features.30.weights.3.weights.1\", \"features.30.weights.4.sv_mask\", \"features.30.weights.4.weights.1\", \"features.30.weights.5.sv_mask\", \"features.30.weights.5.weights.1\", \"features.30.weights.6.sv_mask\", \"features.30.weights.6.weights.1\", \"features.30.weights.7.sv_mask\", \"features.30.weights.7.weights.1\", \"features.30.weights.8.sv_mask\", \"features.30.weights.8.weights.1\", \"features.34.weights.0.sv_mask\", \"features.34.weights.0.weights.1\", \"features.34.weights.1.sv_mask\", \"features.34.weights.1.weights.1\", \"features.34.weights.2.sv_mask\", \"features.34.weights.2.weights.1\", \"features.34.weights.3.sv_mask\", \"features.34.weights.3.weights.1\", \"features.34.weights.4.sv_mask\", \"features.34.weights.4.weights.1\", \"features.34.weights.5.sv_mask\", \"features.34.weights.5.weights.1\", \"features.34.weights.6.sv_mask\", \"features.34.weights.6.weights.1\", \"features.34.weights.7.sv_mask\", \"features.34.weights.7.weights.1\", \"features.34.weights.8.sv_mask\", \"features.34.weights.8.weights.1\", \"features.37.weights.0.sv_mask\", \"features.37.weights.0.weights.1\", \"features.37.weights.1.sv_mask\", \"features.37.weights.1.weights.1\", \"features.37.weights.2.sv_mask\", \"features.37.weights.2.weights.1\", \"features.37.weights.3.sv_mask\", \"features.37.weights.3.weights.1\", \"features.37.weights.4.sv_mask\", \"features.37.weights.4.weights.1\", \"features.37.weights.5.sv_mask\", \"features.37.weights.5.weights.1\", \"features.37.weights.6.sv_mask\", \"features.37.weights.6.weights.1\", \"features.37.weights.7.sv_mask\", \"features.37.weights.7.weights.1\", \"features.37.weights.8.sv_mask\", \"features.37.weights.8.weights.1\", \"features.40.weights.0.sv_mask\", \"features.40.weights.0.weights.1\", \"features.40.weights.1.sv_mask\", \"features.40.weights.1.weights.1\", \"features.40.weights.2.sv_mask\", \"features.40.weights.2.weights.1\", \"features.40.weights.3.sv_mask\", \"features.40.weights.3.weights.1\", \"features.40.weights.4.sv_mask\", \"features.40.weights.4.weights.1\", \"features.40.weights.5.sv_mask\", \"features.40.weights.5.weights.1\", \"features.40.weights.6.sv_mask\", \"features.40.weights.6.weights.1\", \"features.40.weights.7.sv_mask\", \"features.40.weights.7.weights.1\", \"features.40.weights.8.sv_mask\", \"features.40.weights.8.weights.1\", \"classifier.weights.0.sv_mask\", \"classifier.weights.0.weights.1\", \"classifier.weights.1.sv_mask\", \"classifier.weights.1.weights.1\", \"classifier.weights.2.sv_mask\", \"classifier.weights.2.weights.1\", \"classifier.weights.3.sv_mask\", \"classifier.weights.3.weights.1\", \"classifier.weights.4.sv_mask\", \"classifier.weights.4.weights.1\", \"classifier.weights.5.sv_mask\", \"classifier.weights.5.weights.1\", \"classifier.weights.6.sv_mask\", \"classifier.weights.6.weights.1\", \"classifier.weights.7.sv_mask\", \"classifier.weights.7.weights.1\", \"classifier.weights.8.sv_mask\", \"classifier.weights.8.weights.1\", \"classifier.weights.9.sv_mask\", \"classifier.weights.9.weights.1\", \"classifier.weights.10.sv_mask\", \"classifier.weights.10.weights.1\", \"classifier.weights.11.sv_mask\", \"classifier.weights.11.weights.1\", \"classifier.weights.12.sv_mask\", \"classifier.weights.12.weights.1\", \"classifier.weights.13.sv_mask\", \"classifier.weights.13.weights.1\", \"classifier.weights.14.sv_mask\", \"classifier.weights.14.weights.1\", \"classifier.weights.15.sv_mask\", \"classifier.weights.15.weights.1\", \"classifier.weights.16.sv_mask\", \"classifier.weights.16.weights.1\", \"classifier.weights.17.sv_mask\", \"classifier.weights.17.weights.1\", \"classifier.weights.18.sv_mask\", \"classifier.weights.18.weights.1\", \"classifier.weights.19.sv_mask\", \"classifier.weights.19.weights.1\", \"classifier.weights.20.sv_mask\", \"classifier.weights.20.weights.1\", \"classifier.weights.21.sv_mask\", \"classifier.weights.21.weights.1\", \"classifier.weights.22.sv_mask\", \"classifier.weights.22.weights.1\", \"classifier.weights.23.sv_mask\", \"classifier.weights.23.weights.1\", \"classifier.weights.24.sv_mask\", \"classifier.weights.24.weights.1\", \"classifier.weights.25.sv_mask\", \"classifier.weights.25.weights.1\", \"classifier.weights.26.sv_mask\", \"classifier.weights.26.weights.1\", \"classifier.weights.27.sv_mask\", \"classifier.weights.27.weights.1\", \"classifier.weights.28.sv_mask\", \"classifier.weights.28.weights.1\", \"classifier.weights.29.sv_mask\", \"classifier.weights.29.weights.1\", \"classifier.weights.30.sv_mask\", \"classifier.weights.30.weights.1\", \"classifier.weights.31.sv_mask\", \"classifier.weights.31.weights.1\", \"classifier.weights.32.sv_mask\", \"classifier.weights.32.weights.1\", \"classifier.weights.33.sv_mask\", \"classifier.weights.33.weights.1\", \"classifier.weights.34.sv_mask\", \"classifier.weights.34.weights.1\", \"classifier.weights.35.sv_mask\", \"classifier.weights.35.weights.1\", \"classifier.weights.36.sv_mask\", \"classifier.weights.36.weights.1\", \"classifier.weights.37.sv_mask\", \"classifier.weights.37.weights.1\", \"classifier.weights.38.sv_mask\", \"classifier.weights.38.weights.1\", \"classifier.weights.39.sv_mask\", \"classifier.weights.39.weights.1\", \"classifier.weights.40.sv_mask\", \"classifier.weights.40.weights.1\", \"classifier.weights.41.sv_mask\", \"classifier.weights.41.weights.1\", \"classifier.weights.42.sv_mask\", \"classifier.weights.42.weights.1\", \"classifier.weights.43.sv_mask\", \"classifier.weights.43.weights.1\", \"classifier.weights.44.sv_mask\", \"classifier.weights.44.weights.1\", \"classifier.weights.45.sv_mask\", \"classifier.weights.45.weights.1\", \"classifier.weights.46.sv_mask\", \"classifier.weights.46.weights.1\", \"classifier.weights.47.sv_mask\", \"classifier.weights.47.weights.1\", \"classifier.weights.48.sv_mask\", \"classifier.weights.48.weights.1\", \"classifier.weights.49.sv_mask\", \"classifier.weights.49.weights.1\", \"classifier.weights.50.sv_mask\", \"classifier.weights.50.weights.1\". \n\tsize mismatch for features.7.weights.3.weights.0: copying a param with shape torch.Size([128, 128]) from checkpoint, the shape in current model is torch.Size([128, 192]).\n\tsize mismatch for features.14.weights.3.weights.0: copying a param with shape torch.Size([256, 256]) from checkpoint, the shape in current model is torch.Size([256, 384]).\n\tsize mismatch for features.24.weights.3.weights.0: copying a param with shape torch.Size([512, 512]) from checkpoint, the shape in current model is torch.Size([512, 768]).\n\tsize mismatch for classifier.weights.50.weights.0: copying a param with shape torch.Size([10, 10]) from checkpoint, the shape in current model is torch.Size([10, 12]).",
     "output_type": "error",
     "traceback": [
      "\u001b[0;31m---------------------------------------------------------------------------\u001b[0m",
      "\u001b[0;31mRuntimeError\u001b[0m                              Traceback (most recent call last)",
      "\u001b[1;32m/home/yliu/torch_subspace/linear_mode.ipynb Cell 4'\u001b[0m in \u001b[0;36m<cell line: 1>\u001b[0;34m()\u001b[0m\n\u001b[0;32m----> <a href='vscode-notebook-cell://ssh-remote%2B7b22686f73744e616d65223a22747572696e67312e63732e75636c612e656475222c2275736572223a22796c6975227d/home/yliu/torch_subspace/linear_mode.ipynb#ch0000003vscode-remote?line=0'>1</a>\u001b[0m model\u001b[39m.\u001b[39;49mload_state_dict(torch\u001b[39m.\u001b[39;49mload(\u001b[39m\"\u001b[39;49m\u001b[39m./checkpoint/pruned_model\u001b[39;49m\u001b[39m\"\u001b[39;49m))\n",
      "File \u001b[0;32m~/anaconda3/envs/torch/lib/python3.9/site-packages/torch/nn/modules/module.py:1497\u001b[0m, in \u001b[0;36mModule.load_state_dict\u001b[0;34m(self, state_dict, strict)\u001b[0m\n\u001b[1;32m   1492\u001b[0m         error_msgs\u001b[39m.\u001b[39minsert(\n\u001b[1;32m   1493\u001b[0m             \u001b[39m0\u001b[39m, \u001b[39m'\u001b[39m\u001b[39mMissing key(s) in state_dict: \u001b[39m\u001b[39m{}\u001b[39;00m\u001b[39m. \u001b[39m\u001b[39m'\u001b[39m\u001b[39m.\u001b[39mformat(\n\u001b[1;32m   1494\u001b[0m                 \u001b[39m'\u001b[39m\u001b[39m, \u001b[39m\u001b[39m'\u001b[39m\u001b[39m.\u001b[39mjoin(\u001b[39m'\u001b[39m\u001b[39m\"\u001b[39m\u001b[39m{}\u001b[39;00m\u001b[39m\"\u001b[39m\u001b[39m'\u001b[39m\u001b[39m.\u001b[39mformat(k) \u001b[39mfor\u001b[39;00m k \u001b[39min\u001b[39;00m missing_keys)))\n\u001b[1;32m   1496\u001b[0m \u001b[39mif\u001b[39;00m \u001b[39mlen\u001b[39m(error_msgs) \u001b[39m>\u001b[39m \u001b[39m0\u001b[39m:\n\u001b[0;32m-> 1497\u001b[0m     \u001b[39mraise\u001b[39;00m \u001b[39mRuntimeError\u001b[39;00m(\u001b[39m'\u001b[39m\u001b[39mError(s) in loading state_dict for \u001b[39m\u001b[39m{}\u001b[39;00m\u001b[39m:\u001b[39m\u001b[39m\\n\u001b[39;00m\u001b[39m\\t\u001b[39;00m\u001b[39m{}\u001b[39;00m\u001b[39m'\u001b[39m\u001b[39m.\u001b[39mformat(\n\u001b[1;32m   1498\u001b[0m                        \u001b[39mself\u001b[39m\u001b[39m.\u001b[39m\u001b[39m__class__\u001b[39m\u001b[39m.\u001b[39m\u001b[39m__name__\u001b[39m, \u001b[39m\"\u001b[39m\u001b[39m\\n\u001b[39;00m\u001b[39m\\t\u001b[39;00m\u001b[39m\"\u001b[39m\u001b[39m.\u001b[39mjoin(error_msgs)))\n\u001b[1;32m   1499\u001b[0m \u001b[39mreturn\u001b[39;00m _IncompatibleKeys(missing_keys, unexpected_keys)\n",
      "\u001b[0;31mRuntimeError\u001b[0m: Error(s) in loading state_dict for VGG:\n\tUnexpected key(s) in state_dict: \"features.0.weights.0.sv_mask\", \"features.0.weights.0.weights.1\", \"features.0.weights.1.sv_mask\", \"features.0.weights.1.weights.1\", \"features.3.weights.0.sv_mask\", \"features.3.weights.0.weights.1\", \"features.3.weights.1.sv_mask\", \"features.3.weights.1.weights.1\", \"features.3.weights.2.sv_mask\", \"features.3.weights.2.weights.1\", \"features.3.weights.3.sv_mask\", \"features.3.weights.3.weights.1\", \"features.3.weights.4.sv_mask\", \"features.3.weights.4.weights.1\", \"features.3.weights.5.sv_mask\", \"features.3.weights.5.weights.1\", \"features.3.weights.6.sv_mask\", \"features.3.weights.6.weights.1\", \"features.3.weights.7.sv_mask\", \"features.3.weights.7.weights.1\", \"features.3.weights.8.sv_mask\", \"features.3.weights.8.weights.1\", \"features.7.weights.0.sv_mask\", \"features.7.weights.0.weights.1\", \"features.7.weights.1.sv_mask\", \"features.7.weights.1.weights.1\", \"features.7.weights.2.sv_mask\", \"features.7.weights.2.weights.1\", \"features.7.weights.3.sv_mask\", \"features.7.weights.3.weights.1\", \"features.10.weights.0.sv_mask\", \"features.10.weights.0.weights.1\", \"features.10.weights.1.sv_mask\", \"features.10.weights.1.weights.1\", \"features.10.weights.2.sv_mask\", \"features.10.weights.2.weights.1\", \"features.10.weights.3.sv_mask\", \"features.10.weights.3.weights.1\", \"features.10.weights.4.sv_mask\", \"features.10.weights.4.weights.1\", \"features.10.weights.5.sv_mask\", \"features.10.weights.5.weights.1\", \"features.10.weights.6.sv_mask\", \"features.10.weights.6.weights.1\", \"features.10.weights.7.sv_mask\", \"features.10.weights.7.weights.1\", \"features.10.weights.8.sv_mask\", \"features.10.weights.8.weights.1\", \"features.14.weights.0.sv_mask\", \"features.14.weights.0.weights.1\", \"features.14.weights.1.sv_mask\", \"features.14.weights.1.weights.1\", \"features.14.weights.2.sv_mask\", \"features.14.weights.2.weights.1\", \"features.14.weights.3.sv_mask\", \"features.14.weights.3.weights.1\", \"features.17.weights.0.sv_mask\", \"features.17.weights.0.weights.1\", \"features.17.weights.1.sv_mask\", \"features.17.weights.1.weights.1\", \"features.17.weights.2.sv_mask\", \"features.17.weights.2.weights.1\", \"features.17.weights.3.sv_mask\", \"features.17.weights.3.weights.1\", \"features.17.weights.4.sv_mask\", \"features.17.weights.4.weights.1\", \"features.17.weights.5.sv_mask\", \"features.17.weights.5.weights.1\", \"features.17.weights.6.sv_mask\", \"features.17.weights.6.weights.1\", \"features.17.weights.7.sv_mask\", \"features.17.weights.7.weights.1\", \"features.17.weights.8.sv_mask\", \"features.17.weights.8.weights.1\", \"features.20.weights.0.sv_mask\", \"features.20.weights.0.weights.1\", \"features.20.weights.1.sv_mask\", \"features.20.weights.1.weights.1\", \"features.20.weights.2.sv_mask\", \"features.20.weights.2.weights.1\", \"features.20.weights.3.sv_mask\", \"features.20.weights.3.weights.1\", \"features.20.weights.4.sv_mask\", \"features.20.weights.4.weights.1\", \"features.20.weights.5.sv_mask\", \"features.20.weights.5.weights.1\", \"features.20.weights.6.sv_mask\", \"features.20.weights.6.weights.1\", \"features.20.weights.7.sv_mask\", \"features.20.weights.7.weights.1\", \"features.20.weights.8.sv_mask\", \"features.20.weights.8.weights.1\", \"features.24.weights.0.sv_mask\", \"features.24.weights.0.weights.1\", \"features.24.weights.1.sv_mask\", \"features.24.weights.1.weights.1\", \"features.24.weights.2.sv_mask\", \"features.24.weights.2.weights.1\", \"features.24.weights.3.sv_mask\", \"features.24.weights.3.weights.1\", \"features.27.weights.0.sv_mask\", \"features.27.weights.0.weights.1\", \"features.27.weights.1.sv_mask\", \"features.27.weights.1.weights.1\", \"features.27.weights.2.sv_mask\", \"features.27.weights.2.weights.1\", \"features.27.weights.3.sv_mask\", \"features.27.weights.3.weights.1\", \"features.27.weights.4.sv_mask\", \"features.27.weights.4.weights.1\", \"features.27.weights.5.sv_mask\", \"features.27.weights.5.weights.1\", \"features.27.weights.6.sv_mask\", \"features.27.weights.6.weights.1\", \"features.27.weights.7.sv_mask\", \"features.27.weights.7.weights.1\", \"features.27.weights.8.sv_mask\", \"features.27.weights.8.weights.1\", \"features.30.weights.0.sv_mask\", \"features.30.weights.0.weights.1\", \"features.30.weights.1.sv_mask\", \"features.30.weights.1.weights.1\", \"features.30.weights.2.sv_mask\", \"features.30.weights.2.weights.1\", \"features.30.weights.3.sv_mask\", \"features.30.weights.3.weights.1\", \"features.30.weights.4.sv_mask\", \"features.30.weights.4.weights.1\", \"features.30.weights.5.sv_mask\", \"features.30.weights.5.weights.1\", \"features.30.weights.6.sv_mask\", \"features.30.weights.6.weights.1\", \"features.30.weights.7.sv_mask\", \"features.30.weights.7.weights.1\", \"features.30.weights.8.sv_mask\", \"features.30.weights.8.weights.1\", \"features.34.weights.0.sv_mask\", \"features.34.weights.0.weights.1\", \"features.34.weights.1.sv_mask\", \"features.34.weights.1.weights.1\", \"features.34.weights.2.sv_mask\", \"features.34.weights.2.weights.1\", \"features.34.weights.3.sv_mask\", \"features.34.weights.3.weights.1\", \"features.34.weights.4.sv_mask\", \"features.34.weights.4.weights.1\", \"features.34.weights.5.sv_mask\", \"features.34.weights.5.weights.1\", \"features.34.weights.6.sv_mask\", \"features.34.weights.6.weights.1\", \"features.34.weights.7.sv_mask\", \"features.34.weights.7.weights.1\", \"features.34.weights.8.sv_mask\", \"features.34.weights.8.weights.1\", \"features.37.weights.0.sv_mask\", \"features.37.weights.0.weights.1\", \"features.37.weights.1.sv_mask\", \"features.37.weights.1.weights.1\", \"features.37.weights.2.sv_mask\", \"features.37.weights.2.weights.1\", \"features.37.weights.3.sv_mask\", \"features.37.weights.3.weights.1\", \"features.37.weights.4.sv_mask\", \"features.37.weights.4.weights.1\", \"features.37.weights.5.sv_mask\", \"features.37.weights.5.weights.1\", \"features.37.weights.6.sv_mask\", \"features.37.weights.6.weights.1\", \"features.37.weights.7.sv_mask\", \"features.37.weights.7.weights.1\", \"features.37.weights.8.sv_mask\", \"features.37.weights.8.weights.1\", \"features.40.weights.0.sv_mask\", \"features.40.weights.0.weights.1\", \"features.40.weights.1.sv_mask\", \"features.40.weights.1.weights.1\", \"features.40.weights.2.sv_mask\", \"features.40.weights.2.weights.1\", \"features.40.weights.3.sv_mask\", \"features.40.weights.3.weights.1\", \"features.40.weights.4.sv_mask\", \"features.40.weights.4.weights.1\", \"features.40.weights.5.sv_mask\", \"features.40.weights.5.weights.1\", \"features.40.weights.6.sv_mask\", \"features.40.weights.6.weights.1\", \"features.40.weights.7.sv_mask\", \"features.40.weights.7.weights.1\", \"features.40.weights.8.sv_mask\", \"features.40.weights.8.weights.1\", \"classifier.weights.0.sv_mask\", \"classifier.weights.0.weights.1\", \"classifier.weights.1.sv_mask\", \"classifier.weights.1.weights.1\", \"classifier.weights.2.sv_mask\", \"classifier.weights.2.weights.1\", \"classifier.weights.3.sv_mask\", \"classifier.weights.3.weights.1\", \"classifier.weights.4.sv_mask\", \"classifier.weights.4.weights.1\", \"classifier.weights.5.sv_mask\", \"classifier.weights.5.weights.1\", \"classifier.weights.6.sv_mask\", \"classifier.weights.6.weights.1\", \"classifier.weights.7.sv_mask\", \"classifier.weights.7.weights.1\", \"classifier.weights.8.sv_mask\", \"classifier.weights.8.weights.1\", \"classifier.weights.9.sv_mask\", \"classifier.weights.9.weights.1\", \"classifier.weights.10.sv_mask\", \"classifier.weights.10.weights.1\", \"classifier.weights.11.sv_mask\", \"classifier.weights.11.weights.1\", \"classifier.weights.12.sv_mask\", \"classifier.weights.12.weights.1\", \"classifier.weights.13.sv_mask\", \"classifier.weights.13.weights.1\", \"classifier.weights.14.sv_mask\", \"classifier.weights.14.weights.1\", \"classifier.weights.15.sv_mask\", \"classifier.weights.15.weights.1\", \"classifier.weights.16.sv_mask\", \"classifier.weights.16.weights.1\", \"classifier.weights.17.sv_mask\", \"classifier.weights.17.weights.1\", \"classifier.weights.18.sv_mask\", \"classifier.weights.18.weights.1\", \"classifier.weights.19.sv_mask\", \"classifier.weights.19.weights.1\", \"classifier.weights.20.sv_mask\", \"classifier.weights.20.weights.1\", \"classifier.weights.21.sv_mask\", \"classifier.weights.21.weights.1\", \"classifier.weights.22.sv_mask\", \"classifier.weights.22.weights.1\", \"classifier.weights.23.sv_mask\", \"classifier.weights.23.weights.1\", \"classifier.weights.24.sv_mask\", \"classifier.weights.24.weights.1\", \"classifier.weights.25.sv_mask\", \"classifier.weights.25.weights.1\", \"classifier.weights.26.sv_mask\", \"classifier.weights.26.weights.1\", \"classifier.weights.27.sv_mask\", \"classifier.weights.27.weights.1\", \"classifier.weights.28.sv_mask\", \"classifier.weights.28.weights.1\", \"classifier.weights.29.sv_mask\", \"classifier.weights.29.weights.1\", \"classifier.weights.30.sv_mask\", \"classifier.weights.30.weights.1\", \"classifier.weights.31.sv_mask\", \"classifier.weights.31.weights.1\", \"classifier.weights.32.sv_mask\", \"classifier.weights.32.weights.1\", \"classifier.weights.33.sv_mask\", \"classifier.weights.33.weights.1\", \"classifier.weights.34.sv_mask\", \"classifier.weights.34.weights.1\", \"classifier.weights.35.sv_mask\", \"classifier.weights.35.weights.1\", \"classifier.weights.36.sv_mask\", \"classifier.weights.36.weights.1\", \"classifier.weights.37.sv_mask\", \"classifier.weights.37.weights.1\", \"classifier.weights.38.sv_mask\", \"classifier.weights.38.weights.1\", \"classifier.weights.39.sv_mask\", \"classifier.weights.39.weights.1\", \"classifier.weights.40.sv_mask\", \"classifier.weights.40.weights.1\", \"classifier.weights.41.sv_mask\", \"classifier.weights.41.weights.1\", \"classifier.weights.42.sv_mask\", \"classifier.weights.42.weights.1\", \"classifier.weights.43.sv_mask\", \"classifier.weights.43.weights.1\", \"classifier.weights.44.sv_mask\", \"classifier.weights.44.weights.1\", \"classifier.weights.45.sv_mask\", \"classifier.weights.45.weights.1\", \"classifier.weights.46.sv_mask\", \"classifier.weights.46.weights.1\", \"classifier.weights.47.sv_mask\", \"classifier.weights.47.weights.1\", \"classifier.weights.48.sv_mask\", \"classifier.weights.48.weights.1\", \"classifier.weights.49.sv_mask\", \"classifier.weights.49.weights.1\", \"classifier.weights.50.sv_mask\", \"classifier.weights.50.weights.1\". \n\tsize mismatch for features.7.weights.3.weights.0: copying a param with shape torch.Size([128, 128]) from checkpoint, the shape in current model is torch.Size([128, 192]).\n\tsize mismatch for features.14.weights.3.weights.0: copying a param with shape torch.Size([256, 256]) from checkpoint, the shape in current model is torch.Size([256, 384]).\n\tsize mismatch for features.24.weights.3.weights.0: copying a param with shape torch.Size([512, 512]) from checkpoint, the shape in current model is torch.Size([512, 768]).\n\tsize mismatch for classifier.weights.50.weights.0: copying a param with shape torch.Size([10, 10]) from checkpoint, the shape in current model is torch.Size([10, 12])."
     ]
    }
   ],
   "source": [
    "model.load_state_dict(torch.load(\"./checkpoint/pruned_model\"))"
   ]
  },
  {
   "cell_type": "code",
   "execution_count": null,
   "metadata": {},
   "outputs": [],
   "source": []
  }
 ],
 "metadata": {
  "kernelspec": {
   "display_name": "Python 3.9.12 ('torch')",
   "language": "python",
   "name": "python3"
  },
  "language_info": {
   "codemirror_mode": {
    "name": "ipython",
    "version": 3
   },
   "file_extension": ".py",
   "mimetype": "text/x-python",
   "name": "python",
   "nbconvert_exporter": "python",
   "pygments_lexer": "ipython3",
   "version": "3.9.12"
  },
  "orig_nbformat": 4,
  "vscode": {
   "interpreter": {
    "hash": "8dc0c735115da02fdb521651a839b43a7b353576a1e7c935415b1c42e93294ff"
   }
  }
 },
 "nbformat": 4,
 "nbformat_minor": 2
}
